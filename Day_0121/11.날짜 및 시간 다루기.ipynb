{
 "cells": [
  {
   "cell_type": "code",
   "execution_count": 1,
   "id": "67b4b815-9f9e-4a5a-a7da-4df10799aa57",
   "metadata": {},
   "outputs": [],
   "source": [
    "import datetime as dt\n",
    "import pandas as pd"
   ]
  },
  {
   "cell_type": "markdown",
   "id": "b2e7c624-2fc2-488a-9f4f-0e1c6b36160a",
   "metadata": {},
   "source": [
    "11.1.1 파이썬의 날짜 /시간"
   ]
  },
  {
   "cell_type": "code",
   "execution_count": 2,
   "id": "d7f297c7-8672-46bc-876a-259fe2977b57",
   "metadata": {},
   "outputs": [],
   "source": [
    "birthday=dt.datetime(1991,4,12)\n"
   ]
  },
  {
   "cell_type": "code",
   "execution_count": 3,
   "id": "755844bb-6bfe-49e6-8323-20c212b09939",
   "metadata": {},
   "outputs": [
    {
     "data": {
      "text/plain": [
       "1991"
      ]
     },
     "execution_count": 3,
     "metadata": {},
     "output_type": "execute_result"
    }
   ],
   "source": [
    "birthday.year"
   ]
  },
  {
   "cell_type": "code",
   "execution_count": 4,
   "id": "49abe420-d92f-4310-a92f-fd0812a1088b",
   "metadata": {},
   "outputs": [
    {
     "data": {
      "text/plain": [
       "4"
      ]
     },
     "execution_count": 4,
     "metadata": {},
     "output_type": "execute_result"
    }
   ],
   "source": [
    "birthday.month"
   ]
  },
  {
   "cell_type": "code",
   "execution_count": 5,
   "id": "4f9b801d-9705-4fa7-9bee-faa7c6634075",
   "metadata": {},
   "outputs": [
    {
     "data": {
      "text/plain": [
       "12"
      ]
     },
     "execution_count": 5,
     "metadata": {},
     "output_type": "execute_result"
    }
   ],
   "source": [
    "birthday.day"
   ]
  },
  {
   "cell_type": "code",
   "execution_count": null,
   "id": "16f8fe6e-2db3-4485-b771-62eb1cc770fe",
   "metadata": {},
   "outputs": [],
   "source": []
  }
 ],
 "metadata": {
  "kernelspec": {
   "display_name": "Python 3 (ipykernel)",
   "language": "python",
   "name": "python3"
  },
  "language_info": {
   "codemirror_mode": {
    "name": "ipython",
    "version": 3
   },
   "file_extension": ".py",
   "mimetype": "text/x-python",
   "name": "python",
   "nbconvert_exporter": "python",
   "pygments_lexer": "ipython3",
   "version": "3.8.18"
  }
 },
 "nbformat": 4,
 "nbformat_minor": 5
}
