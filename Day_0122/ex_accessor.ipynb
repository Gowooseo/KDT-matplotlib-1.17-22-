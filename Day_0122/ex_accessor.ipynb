{
 "cells": [
  {
   "cell_type": "markdown",
   "id": "02df3d3b-57e9-4abb-b52b-2bbb2f47a7ef",
   "metadata": {},
   "source": [
    "## [접근자 Accesor]\n",
    "- Series/DataFrame의 데이터가 날짜시간(datetime),문자열(object),범주형(Category)등의 경우 데이터타입과 관련된 전용의 함수들을 상요할 수 있도록\n",
    "해주는 속성\n",
    "- Series.str. 문자열처리관련함수명()\n",
    "- Series.dt.날짜시간처리관련 속성명"
   ]
  },
  {
   "cell_type": "markdown",
   "id": "844a8d2d-3749-4f7b-a8f3-d6bb9571a7d6",
   "metadata": {},
   "source": [
    "(1) 모듈로딩"
   ]
  },
  {
   "cell_type": "code",
   "execution_count": 1,
   "id": "2fdcc729-7314-4284-b1a5-021ec07b15de",
   "metadata": {},
   "outputs": [],
   "source": [
    "import pandas as pd\n"
   ]
  },
  {
   "cell_type": "markdown",
   "id": "243f0103-3c36-4ada-8fcb-b7c9eee5ec32",
   "metadata": {},
   "source": [
    "(2)데이터 준비"
   ]
  },
  {
   "cell_type": "code",
   "execution_count": 2,
   "id": "6bd23f28-fb1b-4e96-9a02-f1c7ac29e721",
   "metadata": {},
   "outputs": [],
   "source": [
    "datas={'name':['홍 길동','이 나영','마 징가','베 토벤'],\n",
    "       \"age\":[10,21,73,89],\n",
    "       \"reg_date\": [\"2000/01/23\",\"2020/11/8\",\"1999/5/4\",\"1987/12/24\"]}\n",
    "\n",
    "datas2=[['홍 길동','이 나영','마 징가','베 토벤'],\n",
    "       [10,21,73,89],\n",
    "       [\"2000/01/23\",\"2020/11/8\",\"1999/5/4\",\"1987/12/24\"]]"
   ]
  },
  {
   "cell_type": "markdown",
   "id": "3ee7a50a-5f24-4579-b047-239d34a2e2f8",
   "metadata": {},
   "source": [
    "(3) 데이터 저장"
   ]
  },
  {
   "cell_type": "code",
   "execution_count": 3,
   "id": "b5a4c0b2-0c83-4b05-9e06-c720975e52dd",
   "metadata": {},
   "outputs": [],
   "source": [
    "#리스트/튜플=> df\n",
    "# 딕셔너리=> df \n",
    "# 차이는?\n",
    "\n",
    "#들어가는 형태가 달라짐///"
   ]
  },
  {
   "cell_type": "code",
   "execution_count": 4,
   "id": "cb07b433-8d26-490f-a090-8760571c5bee",
   "metadata": {},
   "outputs": [
    {
     "data": {
      "text/html": [
       "<div>\n",
       "<style scoped>\n",
       "    .dataframe tbody tr th:only-of-type {\n",
       "        vertical-align: middle;\n",
       "    }\n",
       "\n",
       "    .dataframe tbody tr th {\n",
       "        vertical-align: top;\n",
       "    }\n",
       "\n",
       "    .dataframe thead th {\n",
       "        text-align: right;\n",
       "    }\n",
       "</style>\n",
       "<table border=\"1\" class=\"dataframe\">\n",
       "  <thead>\n",
       "    <tr style=\"text-align: right;\">\n",
       "      <th></th>\n",
       "      <th>name</th>\n",
       "      <th>age</th>\n",
       "      <th>reg_date</th>\n",
       "    </tr>\n",
       "  </thead>\n",
       "  <tbody>\n",
       "    <tr>\n",
       "      <th>0</th>\n",
       "      <td>홍 길동</td>\n",
       "      <td>10</td>\n",
       "      <td>2000/01/23</td>\n",
       "    </tr>\n",
       "    <tr>\n",
       "      <th>1</th>\n",
       "      <td>이 나영</td>\n",
       "      <td>21</td>\n",
       "      <td>2020/11/8</td>\n",
       "    </tr>\n",
       "    <tr>\n",
       "      <th>2</th>\n",
       "      <td>마 징가</td>\n",
       "      <td>73</td>\n",
       "      <td>1999/5/4</td>\n",
       "    </tr>\n",
       "    <tr>\n",
       "      <th>3</th>\n",
       "      <td>베 토벤</td>\n",
       "      <td>89</td>\n",
       "      <td>1987/12/24</td>\n",
       "    </tr>\n",
       "  </tbody>\n",
       "</table>\n",
       "</div>"
      ],
      "text/plain": [
       "   name  age    reg_date\n",
       "0  홍 길동   10  2000/01/23\n",
       "1  이 나영   21   2020/11/8\n",
       "2  마 징가   73    1999/5/4\n",
       "3  베 토벤   89  1987/12/24"
      ]
     },
     "execution_count": 4,
     "metadata": {},
     "output_type": "execute_result"
    }
   ],
   "source": [
    "df1=pd.DataFrame(datas)  # 딕셔너리=> df \n",
    "df1"
   ]
  },
  {
   "cell_type": "code",
   "execution_count": 5,
   "id": "1f17875a-4ee1-4c07-9b15-9d484500fca8",
   "metadata": {},
   "outputs": [
    {
     "data": {
      "text/html": [
       "<div>\n",
       "<style scoped>\n",
       "    .dataframe tbody tr th:only-of-type {\n",
       "        vertical-align: middle;\n",
       "    }\n",
       "\n",
       "    .dataframe tbody tr th {\n",
       "        vertical-align: top;\n",
       "    }\n",
       "\n",
       "    .dataframe thead th {\n",
       "        text-align: right;\n",
       "    }\n",
       "</style>\n",
       "<table border=\"1\" class=\"dataframe\">\n",
       "  <thead>\n",
       "    <tr style=\"text-align: right;\">\n",
       "      <th></th>\n",
       "      <th>0</th>\n",
       "      <th>1</th>\n",
       "      <th>2</th>\n",
       "      <th>3</th>\n",
       "    </tr>\n",
       "  </thead>\n",
       "  <tbody>\n",
       "    <tr>\n",
       "      <th>0</th>\n",
       "      <td>홍 길동</td>\n",
       "      <td>이 나영</td>\n",
       "      <td>마 징가</td>\n",
       "      <td>베 토벤</td>\n",
       "    </tr>\n",
       "    <tr>\n",
       "      <th>1</th>\n",
       "      <td>10</td>\n",
       "      <td>21</td>\n",
       "      <td>73</td>\n",
       "      <td>89</td>\n",
       "    </tr>\n",
       "    <tr>\n",
       "      <th>2</th>\n",
       "      <td>2000/01/23</td>\n",
       "      <td>2020/11/8</td>\n",
       "      <td>1999/5/4</td>\n",
       "      <td>1987/12/24</td>\n",
       "    </tr>\n",
       "  </tbody>\n",
       "</table>\n",
       "</div>"
      ],
      "text/plain": [
       "            0          1         2           3\n",
       "0        홍 길동       이 나영      마 징가        베 토벤\n",
       "1          10         21        73          89\n",
       "2  2000/01/23  2020/11/8  1999/5/4  1987/12/24"
      ]
     },
     "execution_count": 5,
     "metadata": {},
     "output_type": "execute_result"
    }
   ],
   "source": [
    "df1=pd.DataFrame(datas2)    #리스트/튜플=> df\n",
    "df1"
   ]
  },
  {
   "cell_type": "markdown",
   "id": "83bb6dfd-acc2-46cb-9e50-e9132c95a942",
   "metadata": {},
   "source": [
    "(4)데이터 정보 확인"
   ]
  },
  {
   "cell_type": "code",
   "execution_count": 6,
   "id": "3ccb159c-302a-4595-9c26-c16b6e01256b",
   "metadata": {},
   "outputs": [],
   "source": [
    "# 데이터의 전체 기본 정보 => info()"
   ]
  },
  {
   "cell_type": "code",
   "execution_count": 7,
   "id": "efd9c548-bd27-4e63-8176-b9de8840bc69",
   "metadata": {},
   "outputs": [
    {
     "name": "stdout",
     "output_type": "stream",
     "text": [
      "<class 'pandas.core.frame.DataFrame'>\n",
      "RangeIndex: 3 entries, 0 to 2\n",
      "Data columns (total 4 columns):\n",
      " #   Column  Non-Null Count  Dtype \n",
      "---  ------  --------------  ----- \n",
      " 0   0       3 non-null      object\n",
      " 1   1       3 non-null      object\n",
      " 2   2       3 non-null      object\n",
      " 3   3       3 non-null      object\n",
      "dtypes: object(4)\n",
      "memory usage: 224.0+ bytes\n"
     ]
    }
   ],
   "source": [
    "df1.info()"
   ]
  },
  {
   "cell_type": "markdown",
   "id": "4c54c741-b077-467a-97e7-ade12b6c8c4b",
   "metadata": {},
   "source": [
    "(5) 데이터 전처리"
   ]
  },
  {
   "cell_type": "markdown",
   "id": "f9b438e6-2304-4ea9-8494-707a68b0dc91",
   "metadata": {},
   "source": [
    "- (5-1) 행<==>열 치환"
   ]
  },
  {
   "cell_type": "code",
   "execution_count": 8,
   "id": "1becdde3-8f18-4b7a-abf0-e19466c7bc29",
   "metadata": {},
   "outputs": [
    {
     "data": {
      "text/html": [
       "<div>\n",
       "<style scoped>\n",
       "    .dataframe tbody tr th:only-of-type {\n",
       "        vertical-align: middle;\n",
       "    }\n",
       "\n",
       "    .dataframe tbody tr th {\n",
       "        vertical-align: top;\n",
       "    }\n",
       "\n",
       "    .dataframe thead th {\n",
       "        text-align: right;\n",
       "    }\n",
       "</style>\n",
       "<table border=\"1\" class=\"dataframe\">\n",
       "  <thead>\n",
       "    <tr style=\"text-align: right;\">\n",
       "      <th></th>\n",
       "      <th>0</th>\n",
       "      <th>1</th>\n",
       "      <th>2</th>\n",
       "    </tr>\n",
       "  </thead>\n",
       "  <tbody>\n",
       "    <tr>\n",
       "      <th>0</th>\n",
       "      <td>홍 길동</td>\n",
       "      <td>10</td>\n",
       "      <td>2000/01/23</td>\n",
       "    </tr>\n",
       "    <tr>\n",
       "      <th>1</th>\n",
       "      <td>이 나영</td>\n",
       "      <td>21</td>\n",
       "      <td>2020/11/8</td>\n",
       "    </tr>\n",
       "    <tr>\n",
       "      <th>2</th>\n",
       "      <td>마 징가</td>\n",
       "      <td>73</td>\n",
       "      <td>1999/5/4</td>\n",
       "    </tr>\n",
       "    <tr>\n",
       "      <th>3</th>\n",
       "      <td>베 토벤</td>\n",
       "      <td>89</td>\n",
       "      <td>1987/12/24</td>\n",
       "    </tr>\n",
       "  </tbody>\n",
       "</table>\n",
       "</div>"
      ],
      "text/plain": [
       "      0   1           2\n",
       "0  홍 길동  10  2000/01/23\n",
       "1  이 나영  21   2020/11/8\n",
       "2  마 징가  73    1999/5/4\n",
       "3  베 토벤  89  1987/12/24"
      ]
     },
     "execution_count": 8,
     "metadata": {},
     "output_type": "execute_result"
    }
   ],
   "source": [
    "df1.T"
   ]
  },
  {
   "cell_type": "code",
   "execution_count": 9,
   "id": "c5dc178a-cfdf-4fd2-aa65-de3a6bf2fa1b",
   "metadata": {},
   "outputs": [],
   "source": [
    "df1=df1.transpose()"
   ]
  },
  {
   "cell_type": "code",
   "execution_count": 10,
   "id": "18cf08e4-147a-47b6-9464-c604cb722f0b",
   "metadata": {},
   "outputs": [
    {
     "data": {
      "text/html": [
       "<div>\n",
       "<style scoped>\n",
       "    .dataframe tbody tr th:only-of-type {\n",
       "        vertical-align: middle;\n",
       "    }\n",
       "\n",
       "    .dataframe tbody tr th {\n",
       "        vertical-align: top;\n",
       "    }\n",
       "\n",
       "    .dataframe thead th {\n",
       "        text-align: right;\n",
       "    }\n",
       "</style>\n",
       "<table border=\"1\" class=\"dataframe\">\n",
       "  <thead>\n",
       "    <tr style=\"text-align: right;\">\n",
       "      <th></th>\n",
       "      <th>0</th>\n",
       "      <th>1</th>\n",
       "      <th>2</th>\n",
       "    </tr>\n",
       "  </thead>\n",
       "  <tbody>\n",
       "    <tr>\n",
       "      <th>0</th>\n",
       "      <td>홍 길동</td>\n",
       "      <td>10</td>\n",
       "      <td>2000/01/23</td>\n",
       "    </tr>\n",
       "    <tr>\n",
       "      <th>1</th>\n",
       "      <td>이 나영</td>\n",
       "      <td>21</td>\n",
       "      <td>2020/11/8</td>\n",
       "    </tr>\n",
       "    <tr>\n",
       "      <th>2</th>\n",
       "      <td>마 징가</td>\n",
       "      <td>73</td>\n",
       "      <td>1999/5/4</td>\n",
       "    </tr>\n",
       "    <tr>\n",
       "      <th>3</th>\n",
       "      <td>베 토벤</td>\n",
       "      <td>89</td>\n",
       "      <td>1987/12/24</td>\n",
       "    </tr>\n",
       "  </tbody>\n",
       "</table>\n",
       "</div>"
      ],
      "text/plain": [
       "      0   1           2\n",
       "0  홍 길동  10  2000/01/23\n",
       "1  이 나영  21   2020/11/8\n",
       "2  마 징가  73    1999/5/4\n",
       "3  베 토벤  89  1987/12/24"
      ]
     },
     "execution_count": 10,
     "metadata": {},
     "output_type": "execute_result"
    }
   ],
   "source": [
    "df1"
   ]
  },
  {
   "cell_type": "markdown",
   "id": "c34376ef-8feb-4c96-bd61-85abb55678dc",
   "metadata": {},
   "source": [
    "- (5-2) 실제 데이터와 타입 확인 후  형 변환"
   ]
  },
  {
   "cell_type": "code",
   "execution_count": 11,
   "id": "e504b713-b0ef-4606-a3b1-365680b3c3fa",
   "metadata": {},
   "outputs": [],
   "source": [
    "# 1번컬럼 : object=> 정수\n",
    "df1[1]=df1[1].astype('uint8')  #u=부호 없음  뒤의 숫자, 개수가 적을때 효과적"
   ]
  },
  {
   "cell_type": "code",
   "execution_count": 12,
   "id": "f2cd053b-9ca9-46dd-acfb-566737fc1336",
   "metadata": {},
   "outputs": [
    {
     "data": {
      "text/plain": [
       "0    object\n",
       "1     uint8\n",
       "2    object\n",
       "dtype: object"
      ]
     },
     "execution_count": 12,
     "metadata": {},
     "output_type": "execute_result"
    }
   ],
   "source": [
    "df1.dtypes"
   ]
  },
  {
   "cell_type": "code",
   "execution_count": 13,
   "id": "551727e3-2abb-42e0-8d35-b9a60d13e7ca",
   "metadata": {},
   "outputs": [],
   "source": [
    "#2번 컬럼:object=> datetime64[ns]\n",
    "df1[2]=df1[2].astype('datetime64[ns]')"
   ]
  },
  {
   "cell_type": "markdown",
   "id": "c5e3ebcd-0672-49b8-82e0-ac3b03c583b1",
   "metadata": {},
   "source": [
    "-(5-3) 0번 컬럼의 이름을 성과 이름으로 분리 하기"
   ]
  },
  {
   "cell_type": "code",
   "execution_count": 14,
   "id": "d3b69be2-97ab-4812-8a74-50c47a8c5f61",
   "metadata": {},
   "outputs": [
    {
     "data": {
      "text/plain": [
       "0    홍 길동\n",
       "1    이 나영\n",
       "2    마 징가\n",
       "3    베 토벤\n",
       "Name: 0, dtype: object"
      ]
     },
     "execution_count": 14,
     "metadata": {},
     "output_type": "execute_result"
    }
   ],
   "source": [
    "#0번 컬럼만 추출 => Series\n",
    "nameSR=df1[0]\n",
    "nameSR"
   ]
  },
  {
   "cell_type": "code",
   "execution_count": 15,
   "id": "c288b1fc-5609-49af-8279-979bc9cb2a67",
   "metadata": {},
   "outputs": [],
   "source": [
    "# \"이 나영 \" 데이터를 추출 => 성과 이름으로 분린\n",
    "# type(nameSR[1]),nameSR[1].upper(),nameSR[1].split()"
   ]
  },
  {
   "cell_type": "code",
   "execution_count": 16,
   "id": "27fd8c26-a3f7-4221-a435-7b66e9551ce0",
   "metadata": {},
   "outputs": [],
   "source": [
    "# for idx in range(nameSR.shape[0]):\n",
    "#     print(nameSR[idx])\n",
    "#     nameSR[idx]=nameSR[idx].split\n",
    "# nameSR    "
   ]
  },
  {
   "cell_type": "code",
   "execution_count": 17,
   "id": "e86b0317-a011-4ad0-ac8b-64394e308565",
   "metadata": {},
   "outputs": [
    {
     "data": {
      "text/plain": [
       "(      0   1          2\n",
       " 0  홍 길동  10 2000-01-23\n",
       " 1  이 나영  21 2020-11-08\n",
       " 2  마 징가  73 1999-05-04\n",
       " 3  베 토벤  89 1987-12-24,\n",
       "    0   1\n",
       " 0  홍  길동\n",
       " 1  이  나영\n",
       " 2  마  징가\n",
       " 3  베  토벤)"
      ]
     },
     "execution_count": 17,
     "metadata": {},
     "output_type": "execute_result"
    }
   ],
   "source": [
    "namesDF=nameSR.str.split(expand=True)\n",
    "df1,namesDF"
   ]
  },
  {
   "cell_type": "markdown",
   "id": "a0c45364-ec73-4440-a468-e495cf09624e",
   "metadata": {},
   "source": [
    "-(5-4) 두개의 DataFrame을 컬럼방향으로 연결"
   ]
  },
  {
   "cell_type": "code",
   "execution_count": 18,
   "id": "5113df0a-d2b4-4aab-808f-61372096141d",
   "metadata": {},
   "outputs": [
    {
     "data": {
      "text/html": [
       "<div>\n",
       "<style scoped>\n",
       "    .dataframe tbody tr th:only-of-type {\n",
       "        vertical-align: middle;\n",
       "    }\n",
       "\n",
       "    .dataframe tbody tr th {\n",
       "        vertical-align: top;\n",
       "    }\n",
       "\n",
       "    .dataframe thead th {\n",
       "        text-align: right;\n",
       "    }\n",
       "</style>\n",
       "<table border=\"1\" class=\"dataframe\">\n",
       "  <thead>\n",
       "    <tr style=\"text-align: right;\">\n",
       "      <th></th>\n",
       "      <th>0</th>\n",
       "      <th>1</th>\n",
       "      <th>2</th>\n",
       "      <th>3</th>\n",
       "      <th>4</th>\n",
       "    </tr>\n",
       "  </thead>\n",
       "  <tbody>\n",
       "    <tr>\n",
       "      <th>0</th>\n",
       "      <td>홍 길동</td>\n",
       "      <td>10</td>\n",
       "      <td>2000-01-23</td>\n",
       "      <td>홍</td>\n",
       "      <td>길동</td>\n",
       "    </tr>\n",
       "    <tr>\n",
       "      <th>1</th>\n",
       "      <td>이 나영</td>\n",
       "      <td>21</td>\n",
       "      <td>2020-11-08</td>\n",
       "      <td>이</td>\n",
       "      <td>나영</td>\n",
       "    </tr>\n",
       "    <tr>\n",
       "      <th>2</th>\n",
       "      <td>마 징가</td>\n",
       "      <td>73</td>\n",
       "      <td>1999-05-04</td>\n",
       "      <td>마</td>\n",
       "      <td>징가</td>\n",
       "    </tr>\n",
       "    <tr>\n",
       "      <th>3</th>\n",
       "      <td>베 토벤</td>\n",
       "      <td>89</td>\n",
       "      <td>1987-12-24</td>\n",
       "      <td>베</td>\n",
       "      <td>토벤</td>\n",
       "    </tr>\n",
       "  </tbody>\n",
       "</table>\n",
       "</div>"
      ],
      "text/plain": [
       "      0   1          2  3   4\n",
       "0  홍 길동  10 2000-01-23  홍  길동\n",
       "1  이 나영  21 2020-11-08  이  나영\n",
       "2  마 징가  73 1999-05-04  마  징가\n",
       "3  베 토벤  89 1987-12-24  베  토벤"
      ]
     },
     "execution_count": 18,
     "metadata": {},
     "output_type": "execute_result"
    }
   ],
   "source": [
    "pd.concat([df1,namesDF],axis='columns',ignore_index=True)  #ignore_index=True 행 인덱스 바꾸기,join='outer'- 열 이름 합집"
   ]
  },
  {
   "cell_type": "markdown",
   "id": "36b3ddeb-f9d5-458e-ae3a-df3356850684",
   "metadata": {},
   "source": [
    "- (5-5) 2번 컬럼에서 년,월,일을 분리 "
   ]
  },
  {
   "cell_type": "code",
   "execution_count": 19,
   "id": "9808359b-4bdb-4cb7-88bf-6b8d2f6d2d70",
   "metadata": {},
   "outputs": [
    {
     "data": {
      "text/plain": [
       "0   2000-01-23\n",
       "1   2020-11-08\n",
       "2   1999-05-04\n",
       "3   1987-12-24\n",
       "Name: 2, dtype: datetime64[ns]"
      ]
     },
     "execution_count": 19,
     "metadata": {},
     "output_type": "execute_result"
    }
   ],
   "source": [
    "df1[2] "
   ]
  },
  {
   "cell_type": "code",
   "execution_count": 20,
   "id": "03b34ce7-0c6c-4ad9-9672-b41ffcf52004",
   "metadata": {},
   "outputs": [
    {
     "data": {
      "text/plain": [
       "0    2000\n",
       "1    2020\n",
       "2    1999\n",
       "3    1987\n",
       "Name: 2, dtype: int32"
      ]
     },
     "execution_count": 20,
     "metadata": {},
     "output_type": "execute_result"
    }
   ],
   "source": [
    "yearSR=df1[2].dt.year \n",
    "#연만 추출\n",
    "yearSR"
   ]
  },
  {
   "cell_type": "code",
   "execution_count": 21,
   "id": "faf99b5f-68a0-4743-b530-b1f7c75df6ab",
   "metadata": {},
   "outputs": [
    {
     "data": {
      "text/html": [
       "<div>\n",
       "<style scoped>\n",
       "    .dataframe tbody tr th:only-of-type {\n",
       "        vertical-align: middle;\n",
       "    }\n",
       "\n",
       "    .dataframe tbody tr th {\n",
       "        vertical-align: top;\n",
       "    }\n",
       "\n",
       "    .dataframe thead th {\n",
       "        text-align: right;\n",
       "    }\n",
       "</style>\n",
       "<table border=\"1\" class=\"dataframe\">\n",
       "  <thead>\n",
       "    <tr style=\"text-align: right;\">\n",
       "      <th></th>\n",
       "      <th>0</th>\n",
       "      <th>1</th>\n",
       "      <th>2</th>\n",
       "      <th>3</th>\n",
       "    </tr>\n",
       "  </thead>\n",
       "  <tbody>\n",
       "    <tr>\n",
       "      <th>0</th>\n",
       "      <td>홍 길동</td>\n",
       "      <td>10</td>\n",
       "      <td>2000-01-23</td>\n",
       "      <td>2000</td>\n",
       "    </tr>\n",
       "    <tr>\n",
       "      <th>1</th>\n",
       "      <td>이 나영</td>\n",
       "      <td>21</td>\n",
       "      <td>2020-11-08</td>\n",
       "      <td>2020</td>\n",
       "    </tr>\n",
       "    <tr>\n",
       "      <th>2</th>\n",
       "      <td>마 징가</td>\n",
       "      <td>73</td>\n",
       "      <td>1999-05-04</td>\n",
       "      <td>1999</td>\n",
       "    </tr>\n",
       "    <tr>\n",
       "      <th>3</th>\n",
       "      <td>베 토벤</td>\n",
       "      <td>89</td>\n",
       "      <td>1987-12-24</td>\n",
       "      <td>1987</td>\n",
       "    </tr>\n",
       "  </tbody>\n",
       "</table>\n",
       "</div>"
      ],
      "text/plain": [
       "      0   1          2     3\n",
       "0  홍 길동  10 2000-01-23  2000\n",
       "1  이 나영  21 2020-11-08  2020\n",
       "2  마 징가  73 1999-05-04  1999\n",
       "3  베 토벤  89 1987-12-24  1987"
      ]
     },
     "execution_count": 21,
     "metadata": {},
     "output_type": "execute_result"
    }
   ],
   "source": [
    "pd.concat([df1,yearSR],axis=1,ignore_index=True)"
   ]
  },
  {
   "cell_type": "markdown",
   "id": "7a690aa5-c60d-4664-b765-5b74ad314741",
   "metadata": {},
   "source": [
    "- (5-6) 현재 DataFrame을 파일로 저장하기 => pandas.to_XXX(\"파일경로+파일명)\n"
   ]
  },
  {
   "cell_type": "code",
   "execution_count": 22,
   "id": "a6ec98c2-c376-48c0-8fa0-bb2a4a419ad3",
   "metadata": {},
   "outputs": [],
   "source": [
    "# csv==> 데이터와 데이터의 구분자\n",
    "filename=\"./backup.csv\"    #backup.csv"
   ]
  },
  {
   "cell_type": "code",
   "execution_count": 25,
   "id": "18ba0592-60c0-4691-829e-8eb797cca844",
   "metadata": {},
   "outputs": [],
   "source": [
    "df1.to_csv(filename,sep=\" \",header=False,index=False)"
   ]
  },
  {
   "cell_type": "code",
   "execution_count": null,
   "id": "25420658-c380-4e12-9231-90c09cbb9438",
   "metadata": {},
   "outputs": [],
   "source": []
  },
  {
   "cell_type": "code",
   "execution_count": 28,
   "id": "8d37a282-c3ac-4dd6-949b-0a4b88a29a32",
   "metadata": {},
   "outputs": [
    {
     "data": {
      "text/html": [
       "<div>\n",
       "<style scoped>\n",
       "    .dataframe tbody tr th:only-of-type {\n",
       "        vertical-align: middle;\n",
       "    }\n",
       "\n",
       "    .dataframe tbody tr th {\n",
       "        vertical-align: top;\n",
       "    }\n",
       "\n",
       "    .dataframe thead th {\n",
       "        text-align: right;\n",
       "    }\n",
       "</style>\n",
       "<table border=\"1\" class=\"dataframe\">\n",
       "  <thead>\n",
       "    <tr style=\"text-align: right;\">\n",
       "      <th></th>\n",
       "      <th>0</th>\n",
       "      <th>1</th>\n",
       "      <th>2</th>\n",
       "    </tr>\n",
       "  </thead>\n",
       "  <tbody>\n",
       "    <tr>\n",
       "      <th>0</th>\n",
       "      <td>홍 길동</td>\n",
       "      <td>10</td>\n",
       "      <td>2000-01-23</td>\n",
       "    </tr>\n",
       "    <tr>\n",
       "      <th>1</th>\n",
       "      <td>이 나영</td>\n",
       "      <td>21</td>\n",
       "      <td>2020-11-08</td>\n",
       "    </tr>\n",
       "    <tr>\n",
       "      <th>2</th>\n",
       "      <td>마 징가</td>\n",
       "      <td>73</td>\n",
       "      <td>1999-05-04</td>\n",
       "    </tr>\n",
       "    <tr>\n",
       "      <th>3</th>\n",
       "      <td>베 토벤</td>\n",
       "      <td>89</td>\n",
       "      <td>1987-12-24</td>\n",
       "    </tr>\n",
       "  </tbody>\n",
       "</table>\n",
       "</div>"
      ],
      "text/plain": [
       "      0   1           2\n",
       "0  홍 길동  10  2000-01-23\n",
       "1  이 나영  21  2020-11-08\n",
       "2  마 징가  73  1999-05-04\n",
       "3  베 토벤  89  1987-12-24"
      ]
     },
     "execution_count": 28,
     "metadata": {},
     "output_type": "execute_result"
    }
   ],
   "source": [
    "pd.read_csv(filename,header=None,sep=' ')"
   ]
  },
  {
   "cell_type": "code",
   "execution_count": 30,
   "id": "9902d22f-3de4-46ef-9800-cf3dfed5ebf0",
   "metadata": {},
   "outputs": [],
   "source": [
    "# df1.append(namesDF])"
   ]
  },
  {
   "cell_type": "code",
   "execution_count": null,
   "id": "19608e34-860f-4af4-9f74-ab60820bbe7b",
   "metadata": {},
   "outputs": [],
   "source": []
  },
  {
   "cell_type": "markdown",
   "id": "12f5c07a-70be-4dfb-b131-4e9977961e30",
   "metadata": {},
   "source": []
  }
 ],
 "metadata": {
  "kernelspec": {
   "display_name": "Python 3 (ipykernel)",
   "language": "python",
   "name": "python3"
  },
  "language_info": {
   "codemirror_mode": {
    "name": "ipython",
    "version": 3
   },
   "file_extension": ".py",
   "mimetype": "text/x-python",
   "name": "python",
   "nbconvert_exporter": "python",
   "pygments_lexer": "ipython3",
   "version": "3.8.18"
  }
 },
 "nbformat": 4,
 "nbformat_minor": 5
}
